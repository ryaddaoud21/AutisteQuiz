{
  "nbformat": 4,
  "nbformat_minor": 0,
  "metadata": {
    "colab": {
      "provenance": [],
      "include_colab_link": true
    },
    "kernelspec": {
      "name": "python3",
      "display_name": "Python 3"
    },
    "language_info": {
      "name": "python"
    }
  },
  "cells": [
    {
      "cell_type": "markdown",
      "metadata": {
        "id": "view-in-github",
        "colab_type": "text"
      },
      "source": [
        "<a href=\"https://colab.research.google.com/github/ryaddaoud21/AutisteQuiz/blob/main/R%C3%A9gression_lin%C3%A9aire_TP1_.ipynb\" target=\"_parent\"><img src=\"https://colab.research.google.com/assets/colab-badge.svg\" alt=\"Open In Colab\"/></a>"
      ]
    },
    {
      "cell_type": "code",
      "execution_count": null,
      "metadata": {
        "colab": {
          "base_uri": "https://localhost:8080/",
          "height": 387
        },
        "id": "UWk74cLQNoQ_",
        "outputId": "2301eb5e-d61c-4eeb-d05b-f7c935778561"
      },
      "outputs": [
        {
          "output_type": "stream",
          "name": "stdout",
          "text": [
            "la températeur d\"été\n",
            "a= -0.005772634870992963 b= 29.05182173573104 rho= -0.9894971854924784\n",
            "la températeur d\"hiver\n",
            "c= -0.007324472243940579 d= 9.97982799061767 rho= -0.9894971854924784\n",
            "t: [0.         0.57142857 1.14285714 1.71428571 2.28571429 2.85714286\n",
            " 3.42857143 4.        ]\n"
          ]
        },
        {
          "output_type": "execute_result",
          "data": {
            "text/plain": [
              "[<matplotlib.lines.Line2D at 0x7f874d25d150>]"
            ]
          },
          "metadata": {},
          "execution_count": 5
        },
        {
          "output_type": "display_data",
          "data": {
            "text/plain": [
              "<Figure size 432x288 with 1 Axes>"
            ],
            "image/png": "[encoded data removed]"
          },
          "metadata": {
            "needs_background": "light"
          }
        }
      ],
      "source": [
        "import numpy as np\n",
        "from scipy.stats import linregress\n",
        "import matplotlib.pyplot as plt # on importe le module matplotlib.pyplot et là aussi, on le renomme\n",
        "\n",
        "# Dans cette partie en fait l'affichage des donnes\n",
        "\n",
        "H=np.array([3500,2800,1300,750,300,900,1800,3100])\n",
        "T_été=np.array([10,13,20,25,30,22,18,11])\n",
        "\n",
        "T_Hiver=np.array([-15,-11,0,3,10,2,-2,-13])\n",
        "(a,b,rho,_,_)=linregress(H,T_été)\n",
        "(c,d,rho,_,_)=linregress(H,T_Hiver)\n",
        "\n",
        "print('la températeur d\"été')\n",
        "print(\"a=\",a,\"b=\",b,\"rho=\",rho)\n",
        "print('la températeur d\"hiver')\n",
        "\n",
        "print(\"c=\",c,\"d=\",d,\"rho=\",rho)\n",
        "t=np.linspace(0,4,8)  # on définit un tableau de 16 valeurs régulièrement espacées allant de 0 à 1/4 \n",
        "print('t:',t)\n",
        "plt.plot(t,H) # on fait tracer ymes en fonction de t, sans aucune option de tracé. \n",
        "\n",
        "\n",
        "\n",
        "\n",
        "\n",
        "\n",
        "\n"
      ]
    },
    {
      "cell_type": "code",
      "source": [
        "from sklearn.linear_model import LinearRegression\n",
        "from sklearn.metrics import mean_squared_error\n",
        "\n",
        "# on va créer notre model pour la  détection (1) été (2) Hiver et on calcule la précision avec RMSE\n",
        "\n",
        "#données\n",
        "H = H.reshape((-1, 1))\n",
        "#instancier modèle\n",
        "model_linReg = LinearRegression()\n",
        "#entrainement du modèle\n",
        "model_linReg.fit(H , T_été)\n",
        "#précision du modèle\n",
        "precision = model_linReg.score(H , T_été)\n",
        "print(precision*100)\n",
        "#prédiction\n",
        "\n",
        "# On donne la resultat de températeur dans 1000m (été)\n",
        "x = np.array([1000]).reshape((-1, 1))\n",
        "\n",
        "prediction = model_linReg.predict(x)\n",
        "print(prediction)"
      ],
      "metadata": {
        "colab": {
          "base_uri": "https://localhost:8080/"
        },
        "id": "2phu06NvhyNd",
        "outputId": "f2e5230c-ae58-4f90-80e0-59fa109bbf74"
      },
      "execution_count": null,
      "outputs": [
        {
          "output_type": "stream",
          "name": "stdout",
          "text": [
            "95.71621851310466\n",
            "[23.27918686]\n"
          ]
        }
      ]
    },
    {
      "cell_type": "code",
      "source": [],
      "metadata": {
        "id": "9LHfsZUuduQu"
      },
      "execution_count": null,
      "outputs": []
    },
    {
      "cell_type": "code",
      "source": [
        "model_linReg2 = LinearRegression()\n",
        "#entrainement du modèle\n",
        "model_linReg2.fit(H , T_Hiver)\n",
        "#précision du modèle\n",
        "precision = model_linReg2.score(H , T_Hiver)\n",
        "print(precision*100)\n",
        "#prédiction\n",
        "\n",
        "# On donne le resultat de températeur dans 1000m (été / hiver )\n",
        "x = np.array([1000]).reshape((-1, 1))\n",
        "\n",
        "prediction = model_linReg2.predict(x)\n",
        "print(prediction)\n",
        "\n",
        "# Model de l'ÉTÉ donne 95.71%  de Précision , Model Hiver donne 97.90% de Précision."
      ],
      "metadata": {
        "colab": {
          "base_uri": "https://localhost:8080/"
        },
        "id": "EJvGZfyIhoN7",
        "outputId": "b63ff0d5-00fa-4ea0-f1d5-7bb44ec35f33"
      },
      "execution_count": null,
      "outputs": [
        {
          "output_type": "stream",
          "name": "stdout",
          "text": [
            "97.91046800975363\n",
            "[2.65535575]\n"
          ]
        }
      ]
    },
    {
      "cell_type": "code",
      "source": [
        "import matplotlib.pyplot as plt\n",
        "\n",
        "plt.scatter(H, T_Hiver, color=\"black\")\n",
        "plt.plot(H, model_linReg2.predict(H))\n",
        "\n",
        "#l'affichage de graphe de precision , les points noir sont les points de notre dataset\n",
        "\n",
        "# le lien blue est de la prédiction\n",
        "\n",
        "plt.xlabel('H')\n",
        "#nommer l'axe y\n",
        "plt.ylabel('T')\n",
        "\n",
        "plt.show()"
      ],
      "metadata": {
        "id": "35UDIBqbkFj3",
        "outputId": "b5d68032-49ea-48b6-a5ed-368a53d56f04",
        "colab": {
          "base_uri": "https://localhost:8080/",
          "height": 279
        }
      },
      "execution_count": null,
      "outputs": [
        {
          "output_type": "display_data",
          "data": {
            "text/plain": [
              "<Figure size 432x288 with 1 Axes>"
            ],
            "image/png": "[encoded data removed]"
          },
          "metadata": {
            "needs_background": "light"
          }
        }
      ]
    },
    {
      "cell_type": "code",
      "source": [
        "import matplotlib.pyplot as plt\n",
        "\n",
        "plt.scatter(H, T_été, color=\"black\")\n",
        "plt.plot(H, model_linReg.predict(H))\n",
        "\n",
        "plt.xlabel('H')\n",
        "#nommer l'axe x\n",
        "plt.ylabel('T')\n",
        "\n",
        "plt.show()"
      ],
      "metadata": {
        "colab": {
          "base_uri": "https://localhost:8080/",
          "height": 279
        },
        "id": "QVSmdlL7kiCA",
        "outputId": "f2f30ea0-d899-4e00-eb4f-d8220dd442e4"
      },
      "execution_count": null,
      "outputs": [
        {
          "output_type": "display_data",
          "data": {
            "text/plain": [
              "<Figure size 432x288 with 1 Axes>"
            ],
            "image/png": "[encoded data removed]"
          },
          "metadata": {
            "needs_background": "light"
          }
        }
      ]
    }
  ]
}